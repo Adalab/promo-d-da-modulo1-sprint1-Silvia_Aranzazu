{
 "cells": [
  {
   "cell_type": "code",
   "execution_count": 1,
   "metadata": {},
   "outputs": [],
   "source": [
    "import random\n",
    "lista=random.sample(range(1,100),10)\n"
   ]
  },
  {
   "cell_type": "code",
   "execution_count": 2,
   "metadata": {},
   "outputs": [
    {
     "name": "stdout",
     "output_type": "stream",
     "text": [
      "Longitud de la lista:  10\n",
      "Tercer elemento:  7\n",
      "Tercer elemento usando indices negativos:  7\n",
      "LISTA: [27, 42, 7, 8, 14, 68, 34, 85, 74, 96]\n",
      "Introduce un elemento de la lista mostrada lineas arriba: \n",
      "El elemento  27 de la lista esta en la posicion  0\n"
     ]
    }
   ],
   "source": [
    "print(\"Longitud de la lista: \", len(lista))\n",
    "print (\"Tercer elemento: \", lista[2])\n",
    "print (\"Tercer elemento usando indices negativos: \",lista[-8])\n",
    "print(\"LISTA:\",lista)\n",
    "numero_buscado=input(print(\"Introduce un elemento de la lista mostrada lineas arriba: \"))\n",
    "print (\"El elemento \", numero_buscado, \"de la lista esta en la posicion \",lista.index(int(numero_buscado)))"
   ]
  },
  {
   "cell_type": "code",
   "execution_count": 14,
   "metadata": {},
   "outputs": [
    {
     "name": "stdout",
     "output_type": "stream",
     "text": [
      "[7, 8, 14]\n",
      "[68, 34, 85, 74]\n",
      "[42, 8, 68, 85, 96]\n",
      "[27, 7, 14, 34, 74]\n"
     ]
    }
   ],
   "source": [
    "lista2 = lista[2:5]\n",
    "print(lista2)\n",
    "\n",
    "lista3 = lista[-5:-1]\n",
    "print(lista3)\n",
    "\n",
    "lista4 = lista[1::2]\n",
    "print(lista4)\n",
    "\n",
    "lista5 = lista[::2]\n",
    "print(lista5)"
   ]
  },
  {
   "cell_type": "code",
   "execution_count": null,
   "metadata": {},
   "outputs": [],
   "source": []
  }
 ],
 "metadata": {
  "kernelspec": {
   "display_name": "base",
   "language": "python",
   "name": "python3"
  },
  "language_info": {
   "codemirror_mode": {
    "name": "ipython",
    "version": 3
   },
   "file_extension": ".py",
   "mimetype": "text/x-python",
   "name": "python",
   "nbconvert_exporter": "python",
   "pygments_lexer": "ipython3",
   "version": "3.9.7"
  },
  "orig_nbformat": 4,
  "vscode": {
   "interpreter": {
    "hash": "69f943ffeb1050509d23f68421eccccdbe6944938d107825421f65c9379fc2e0"
   }
  }
 },
 "nbformat": 4,
 "nbformat_minor": 2
}
