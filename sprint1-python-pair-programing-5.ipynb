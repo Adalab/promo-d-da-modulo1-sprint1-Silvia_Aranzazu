{
 "cells": [
  {
   "cell_type": "code",
   "execution_count": 4,
   "metadata": {},
   "outputs": [
    {
     "name": "stdout",
     "output_type": "stream",
     "text": [
      "Longitud de la lista:  10\n",
      "Tercer elemento:  38\n",
      "Tercer elemento usando indices negativos:  67\n"
     ]
    }
   ],
   "source": [
    "import random\n",
    "lista=random.sample(range(1,100),10)\n"
   ]
  },
  {
   "cell_type": "code",
   "execution_count": 6,
   "metadata": {},
   "outputs": [
    {
     "name": "stdout",
     "output_type": "stream",
     "text": [
      "Longitud de la lista:  10\n",
      "Tercer elemento:  38\n",
      "Tercer elemento usando indices negativos:  38\n",
      "LISTA: [52, 49, 38, 67, 3, 22, 64, 91, 76, 43]\n",
      "Introduce un elemento de la lista mostrada lineas arriba: \n",
      "El elemento  52 de la lista esta en la posicion  0\n"
     ]
    }
   ],
   "source": [
    "print(\"Longitud de la lista: \", len(lista))\n",
    "print (\"Tercer elemento: \", lista[2])\n",
    "print (\"Tercer elemento usando indices negativos: \",lista[-8])\n",
    "print(\"LISTA:\",lista)\n",
    "numero_buscado=input(print(\"Introduce un elemento de la lista mostrada lineas arriba: \"))\n",
    "print (\"El elemento \", numero_buscado, \"de la lista esta en la posicion \",lista.index(int(numero_buscado)))"
   ]
  }
 ],
 "metadata": {
  "kernelspec": {
   "display_name": "base",
   "language": "python",
   "name": "python3"
  },
  "language_info": {
   "codemirror_mode": {
    "name": "ipython",
    "version": 3
   },
   "file_extension": ".py",
   "mimetype": "text/x-python",
   "name": "python",
   "nbconvert_exporter": "python",
   "pygments_lexer": "ipython3",
   "version": "3.9.13"
  },
  "orig_nbformat": 4,
  "vscode": {
   "interpreter": {
    "hash": "6e381c4e0881c19ec4405b2adff3498edf3b25f59ec2650620a337d7c4381cef"
   }
  }
 },
 "nbformat": 4,
 "nbformat_minor": 2
}
