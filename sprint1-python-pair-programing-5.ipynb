{
 "cells": [
  {
   "cell_type": "code",
   "execution_count": null,
   "metadata": {},
   "outputs": [],
   "source": [
    "import random\n",
    "lista=random.sample(range(1,100),10)\n"
   ]
  },
  {
   "cell_type": "code",
   "execution_count": null,
   "metadata": {},
   "outputs": [],
   "source": [
    "print(\"Longitud de la lista: \", len(lista))\n",
    "print (\"Tercer elemento: \", lista[2])\n",
    "print (\"Tercer elemento usando indices negativos: \",lista[-8])\n",
    "print(\"LISTA:\",lista)\n",
    "numero_buscado=input(print(\"Introduce un elemento de la lista mostrada lineas arriba: \"))\n",
    "print (\"El elemento \", numero_buscado, \"de la lista esta en la posicion \",lista.index(int(numero_buscado)))"
   ]
  },
  {
   "cell_type": "code",
   "execution_count": null,
   "metadata": {},
   "outputs": [],
   "source": [
    "lista2 = lista[2:5]\n",
    "print(lista2)\n",
    "\n",
    "lista3 = lista[-5:-1]\n",
    "print(lista3)\n",
    "\n",
    "lista4 = lista[1::2]\n",
    "print(lista4)\n",
    "\n",
    "lista5 = lista[::2]\n",
    "print(lista5)"
   ]
  },
  {
   "cell_type": "code",
   "execution_count": 4,
   "metadata": {},
   "outputs": [
    {
     "name": "stdout",
     "output_type": "stream",
     "text": [
      "Nota Lupe 9.8\n"
     ]
    }
   ],
   "source": [
    "nombres=[\"Laura\",\"Lorena\",\"Lupe\",\"Loreto\",\"Lucía\"]\n",
    "notas=[9,8.5,9.8,8.9,9.2]\n",
    "print(\"Nota Lupe\",notas[nombres.index(\"Lupe\")])"
   ]
  }
 ],
 "metadata": {
  "kernelspec": {
   "display_name": "base",
   "language": "python",
   "name": "python3"
  },
  "language_info": {
   "codemirror_mode": {
    "name": "ipython",
    "version": 3
   },
   "file_extension": ".py",
   "mimetype": "text/x-python",
   "name": "python",
   "nbconvert_exporter": "python",
   "pygments_lexer": "ipython3",
   "version": "3.9.13"
  },
  "orig_nbformat": 4,
  "vscode": {
   "interpreter": {
    "hash": "6e381c4e0881c19ec4405b2adff3498edf3b25f59ec2650620a337d7c4381cef"
   }
  }
 },
 "nbformat": 4,
 "nbformat_minor": 2
}
