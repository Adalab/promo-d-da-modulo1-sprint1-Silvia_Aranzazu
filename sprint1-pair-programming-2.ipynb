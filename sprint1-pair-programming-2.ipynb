{
 "cells": [
  {
   "cell_type": "code",
   "execution_count": null,
   "metadata": {},
   "outputs": [],
   "source": [
    "nombres = input(print('Dime nombres de 3 amigos:'))\n",
    "nombres = nombres.split()\n",
    "nombres"
   ]
  },
  {
   "cell_type": "code",
   "execution_count": 19,
   "metadata": {},
   "outputs": [
    {
     "name": "stdout",
     "output_type": "stream",
     "text": [
      "Dime cuanto miden tus amigos;\n"
     ]
    },
    {
     "data": {
      "text/plain": [
       "[2.2, 1.1]"
      ]
     },
     "execution_count": 19,
     "metadata": {},
     "output_type": "execute_result"
    }
   ],
   "source": [
    "lista_alturas = input(print('Dime cuanto miden tus amigos;'))\n",
    "lista_alturas = lista_alturas.split(',')\n",
    "lista_alturas\n",
    "\n",
    "lista_alturas = [float(i) for i in lista_alturas]\n",
    "lista_alturas"
   ]
  },
  {
   "cell_type": "code",
   "execution_count": 24,
   "metadata": {},
   "outputs": [
    {
     "name": "stdout",
     "output_type": "stream",
     "text": [
      "Nombres ordenados: ['pedro,', 'arancha']\n",
      "Alturas ordenados: [2.2, 1.1]\n",
      "La altura maxima es: 2.2\n",
      "La altura minima es: 1.1\n"
     ]
    }
   ],
   "source": [
    "nombres.sort(reverse=True)\n",
    "lista_alturas.sort(reverse=True)\n",
    "print (\"Nombres ordenados:\",nombres)\n",
    "print (\"Alturas ordenados:\",lista_alturas)\n",
    "\n",
    "print (\"La altura maxima es:\", max(lista_alturas))\n",
    "print (\"La altura minima es:\", min(lista_alturas))"
   ]
  },
  {
   "cell_type": "code",
   "execution_count": null,
   "metadata": {},
   "outputs": [],
   "source": []
  }
 ],
 "metadata": {
  "kernelspec": {
   "display_name": "Python 3",
   "language": "python",
   "name": "python3"
  },
  "language_info": {
   "codemirror_mode": {
    "name": "ipython",
    "version": 3
   },
   "file_extension": ".py",
   "mimetype": "text/x-python",
   "name": "python",
   "nbconvert_exporter": "python",
   "pygments_lexer": "ipython3",
   "version": "3.10.6"
  },
  "orig_nbformat": 4,
  "vscode": {
   "interpreter": {
    "hash": "916dbcbb3f70747c44a77c7bcd40155683ae19c65e1c03b4aa3499c5328201f1"
   }
  }
 },
 "nbformat": 4,
 "nbformat_minor": 2
}
