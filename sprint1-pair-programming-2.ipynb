{
 "cells": [
  {
   "cell_type": "code",
   "execution_count": 7,
   "metadata": {},
   "outputs": [
    {
     "name": "stdout",
     "output_type": "stream",
     "text": [
      "Dime nombres de 3 amigos:\n"
     ]
    },
    {
     "data": {
      "text/plain": [
       "['Irene', 'Ana', 'Clara']"
      ]
     },
     "execution_count": 7,
     "metadata": {},
     "output_type": "execute_result"
    }
   ],
   "source": [
    "nombres = input(print('Dime nombres de 3 amigos:'))\n",
    "nombres = nombres.split()\n",
    "nombres"
   ]
  },
  {
   "cell_type": "code",
   "execution_count": 5,
   "metadata": {},
   "outputs": [
    {
     "name": "stdout",
     "output_type": "stream",
     "text": [
      "Dime cuanto miden tus amigos;\n"
     ]
    },
    {
     "data": {
      "text/plain": [
       "['1.72', '1.58', '1.70']"
      ]
     },
     "execution_count": 5,
     "metadata": {},
     "output_type": "execute_result"
    }
   ],
   "source": [
    "lista_alturas = input(print('Dime cuanto miden tus amigos;'))\n",
    "lista_alturas = lista_alturas.split()\n",
    "lista_alturas"
   ]
  },
  {
   "cell_type": "code",
   "execution_count": null,
   "metadata": {},
   "outputs": [],
   "source": []
  }
 ],
 "metadata": {
  "kernelspec": {
   "display_name": "base",
   "language": "python",
   "name": "python3"
  },
  "language_info": {
   "codemirror_mode": {
    "name": "ipython",
    "version": 3
   },
   "file_extension": ".py",
   "mimetype": "text/x-python",
   "name": "python",
   "nbconvert_exporter": "python",
   "pygments_lexer": "ipython3",
   "version": "3.9.7"
  },
  "orig_nbformat": 4,
  "vscode": {
   "interpreter": {
    "hash": "69f943ffeb1050509d23f68421eccccdbe6944938d107825421f65c9379fc2e0"
   }
  }
 },
 "nbformat": 4,
 "nbformat_minor": 2
}
