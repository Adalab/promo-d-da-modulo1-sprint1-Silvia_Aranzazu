{
 "cells": [
  {
   "cell_type": "code",
   "execution_count": 10,
   "metadata": {},
   "outputs": [
    {
     "name": "stdout",
     "output_type": "stream",
     "text": [
      "{'nombres': [], 'apellidos': [], 'edades': [], 'hijos': []}\n",
      "Introduce 3 nombres separados por comas: \n",
      "Introduce 3 apellidos separados por comas: \n",
      "Introduce 3 edades separados por comas: \n",
      "Introduce el numero de hijos separados por comas: \n",
      "Resultados diccionario:  {'nombres': ['pedro', '  juan'], 'apellidos': ['garcia', ' gutierrez'], 'edades': ['18', ' 32'], 'hijos': ['1', ' 0']}\n"
     ]
    }
   ],
   "source": [
    "diccionario= {\"nombres\":[], \"apellidos\":[],\"edades\":[],\"hijos\":[]}\n",
    "print(diccionario)\n",
    "\n",
    "#introducimos nombres\n",
    "string_nombres=input(print(\"Introduce 3 nombres separados por comas: \"))\n",
    "lista_nombres=string_nombres.split(',')\n",
    "diccionario[\"nombres\"]=lista_nombres\n",
    "\n",
    "\n",
    "#introducimos apellidos\n",
    "string_apellidos=input(print(\"Introduce 3 apellidos separados por comas: \"))\n",
    "lista_apellidos=string_apellidos.split(',')\n",
    "diccionario[\"apellidos\"]=lista_apellidos\n",
    "\n",
    "#introducimos edades\n",
    "string_edades=input(print(\"Introduce 3 edades separados por comas: \"))\n",
    "lista_edades=string_edades.split(',')\n",
    "diccionario[\"edades\"]=lista_edades\n",
    "\n",
    "#introducimos hijos\n",
    "string_hijos=input(print(\"Introduce el numero de hijos separados por comas: \"))\n",
    "lista_hijos=string_hijos.split(',')\n",
    "diccionario[\"hijos\"]=lista_hijos\n",
    "\n",
    "# Mostramos diccionario con los resultados\n",
    "print(\"Resultados diccionario: \",diccionario)"
   ]
  },
  {
   "cell_type": "code",
   "execution_count": 9,
   "metadata": {},
   "outputs": [
    {
     "name": "stdout",
     "output_type": "stream",
     "text": [
      "{'nombres': ['pedro', '  juan'], 'apellidos': ['garcia', ' gutierrez'], 'edades': ['18', ' 38'], 'hijos': ['1', ' 0']}\n"
     ]
    },
    {
     "data": {
      "text/plain": [
       "dict"
      ]
     },
     "execution_count": 9,
     "metadata": {},
     "output_type": "execute_result"
    }
   ],
   "source": [
    "print(diccionario)\n",
    "type(diccionario)"
   ]
  }
 ],
 "metadata": {
  "kernelspec": {
   "display_name": "base",
   "language": "python",
   "name": "python3"
  },
  "language_info": {
   "codemirror_mode": {
    "name": "ipython",
    "version": 3
   },
   "file_extension": ".py",
   "mimetype": "text/x-python",
   "name": "python",
   "nbconvert_exporter": "python",
   "pygments_lexer": "ipython3",
   "version": "3.9.13"
  },
  "orig_nbformat": 4,
  "vscode": {
   "interpreter": {
    "hash": "6e381c4e0881c19ec4405b2adff3498edf3b25f59ec2650620a337d7c4381cef"
   }
  }
 },
 "nbformat": 4,
 "nbformat_minor": 2
}
