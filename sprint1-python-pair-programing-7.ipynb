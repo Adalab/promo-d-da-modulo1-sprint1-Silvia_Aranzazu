{
 "cells": [
  {
   "cell_type": "code",
   "execution_count": 12,
   "metadata": {},
   "outputs": [
    {
     "name": "stdout",
     "output_type": "stream",
     "text": [
      "{'nombres': [], 'apellidos': [], 'edades': [], 'hjos': []}\n",
      "Introduce 3 nombres: \n"
     ]
    }
   ],
   "source": [
    "diccionario= {\"nombres\":[], \"apellidos\":[],\"edades\":[],\"hjos\":[]}\n",
    "print(diccionario)\n",
    "\n",
    "string_nombres=input(print(\"Introduce 3 nombres: \"))\n",
    "lista_nombres=string_nombres.split(',')\n",
    "diccionario[\"nombres\"]=lista_nombres\n"
   ]
  },
  {
   "cell_type": "code",
   "execution_count": 13,
   "metadata": {},
   "outputs": [
    {
     "name": "stdout",
     "output_type": "stream",
     "text": [
      "{'nombres': ['pepe', ' juan'], 'apellidos': [], 'edades': [], 'hjos': []}\n"
     ]
    },
    {
     "data": {
      "text/plain": [
       "dict"
      ]
     },
     "execution_count": 13,
     "metadata": {},
     "output_type": "execute_result"
    }
   ],
   "source": [
    "print(diccionario)\n",
    "type(diccionario)"
   ]
  }
 ],
 "metadata": {
  "kernelspec": {
   "display_name": "base",
   "language": "python",
   "name": "python3"
  },
  "language_info": {
   "name": "python",
   "version": "3.9.13"
  },
  "orig_nbformat": 4,
  "vscode": {
   "interpreter": {
    "hash": "6e381c4e0881c19ec4405b2adff3498edf3b25f59ec2650620a337d7c4381cef"
   }
  }
 },
 "nbformat": 4,
 "nbformat_minor": 2
}
