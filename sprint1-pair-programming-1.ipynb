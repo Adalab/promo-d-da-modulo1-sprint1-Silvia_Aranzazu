{
 "cells": [
  {
   "cell_type": "code",
   "execution_count": null,
   "metadata": {},
   "outputs": [],
   "source": [
    "numero1 = 1\n",
    "numero2 = 2\n",
    "numero3 = 3"
   ]
  },
  {
   "cell_type": "code",
   "execution_count": null,
   "metadata": {},
   "outputs": [],
   "source": [
    "\n",
    "print('¿Es mayor número 1 que número 2?', numero1 > numero2)\n",
    "print('¿Es el numero1 menor que el numero2 pero mayor que el numero3?', numero2 > numero1 > numero3)\n",
    "print('¿Es el numero3 igual que el numero2?', numero3 == numero2)\n",
    "print('¿Es el numero2 distinto que el numero1?', numero2 != numero1)"
   ]
  },
  {
   "cell_type": "code",
   "execution_count": null,
   "metadata": {},
   "outputs": [],
   "source": [
    "altura1=1.69\n",
    "altura2=1.58\n",
    "print(\"Suma:\", altura1+altura2)\n",
    "print(\"Diferencia:\", altura1-altura2)\n",
    "print(\"Resto:\", altura1%altura2)\n",
    "print(\"Division redondeada a UN decimal:\",round((altura1/altura2),1))"
   ]
  },
  {
   "cell_type": "code",
   "execution_count": 8,
   "metadata": {},
   "outputs": [
    {
     "name": "stdout",
     "output_type": "stream",
     "text": [
      "Nombre_y_apellidos:  arancha viala\n",
      "Nombre mayusculas: ARANCHA VIALA\n",
      "Nombre minusculas arancha viala\n"
     ]
    }
   ],
   "source": [
    "nombre_completo=input()\n",
    "print(\"Nombre_y_apellidos: \",nombre_completo)\n",
    "print(\"Nombre mayusculas:\",nombre_completo.upper())\n",
    "print(\"Nombre minusculas\",nombre_completo.lower())"
   ]
  }
 ],
 "metadata": {
  "kernelspec": {
   "display_name": "base",
   "language": "python",
   "name": "python3"
  },
  "language_info": {
   "codemirror_mode": {
    "name": "ipython",
    "version": 3
   },
   "file_extension": ".py",
   "mimetype": "text/x-python",
   "name": "python",
   "nbconvert_exporter": "python",
   "pygments_lexer": "ipython3",
   "version": "3.9.13"
  },
  "orig_nbformat": 4,
  "vscode": {
   "interpreter": {
    "hash": "6e381c4e0881c19ec4405b2adff3498edf3b25f59ec2650620a337d7c4381cef"
   }
  }
 },
 "nbformat": 4,
 "nbformat_minor": 2
}
