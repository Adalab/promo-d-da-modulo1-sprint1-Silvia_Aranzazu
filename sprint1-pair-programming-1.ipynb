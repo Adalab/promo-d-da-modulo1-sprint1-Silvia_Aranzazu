{
 "cells": [
  {
   "cell_type": "code",
   "execution_count": 1,
   "metadata": {},
   "outputs": [],
   "source": [
    "numero1 = 1\n",
    "numero2 = 2\n",
    "numero3 = 3"
   ]
  },
  {
   "cell_type": "code",
   "execution_count": 5,
   "metadata": {},
   "outputs": [
    {
     "name": "stdout",
     "output_type": "stream",
     "text": [
      "¿Es mayor número 1 que número 2? False\n",
      "¿Es el numero1 menor que el numero2 pero mayor que el numero3? False\n",
      "¿Es el numero3 igual que el numero2? False\n",
      "¿Es el numero2 distinto que el numero1? True\n"
     ]
    }
   ],
   "source": [
    "\n",
    "print('¿Es mayor número 1 que número 2?', numero1 > numero2)\n",
    "print('¿Es el numero1 menor que el numero2 pero mayor que el numero3?', numero2 > numero1 > numero3)\n",
    "print('¿Es el numero3 igual que el numero2?', numero3 == numero2)\n",
    "print('¿Es el numero2 distinto que el numero1?', numero2 != numero1)"
   ]
  },
  {
   "cell_type": "code",
   "execution_count": null,
   "metadata": {},
   "outputs": [],
   "source": []
  }
 ],
 "metadata": {
  "kernelspec": {
   "display_name": "base",
   "language": "python",
   "name": "python3"
  },
  "language_info": {
   "codemirror_mode": {
    "name": "ipython",
    "version": 3
   },
   "file_extension": ".py",
   "mimetype": "text/x-python",
   "name": "python",
   "nbconvert_exporter": "python",
   "pygments_lexer": "ipython3",
   "version": "3.9.7"
  },
  "orig_nbformat": 4,
  "vscode": {
   "interpreter": {
    "hash": "69f943ffeb1050509d23f68421eccccdbe6944938d107825421f65c9379fc2e0"
   }
  }
 },
 "nbformat": 4,
 "nbformat_minor": 2
}
