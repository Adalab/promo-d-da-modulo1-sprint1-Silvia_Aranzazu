{
 "cells": [
  {
   "cell_type": "code",
   "execution_count": null,
   "metadata": {},
   "outputs": [],
   "source": [
    "numero1 = 1\n",
    "numero2 = 2\n",
    "numero3 = 3"
   ]
  },
  {
   "cell_type": "code",
   "execution_count": null,
   "metadata": {},
   "outputs": [],
   "source": [
    "\n",
    "print('¿Es mayor número 1 que número 2?', numero1 > numero2)\n",
    "print('¿Es el numero1 menor que el numero2 pero mayor que el numero3?', numero2 > numero1 > numero3)\n",
    "print('¿Es el numero3 igual que el numero2?', numero3 == numero2)\n",
    "print('¿Es el numero2 distinto que el numero1?', numero2 != numero1)"
   ]
  },
  {
   "cell_type": "code",
   "execution_count": null,
   "metadata": {},
   "outputs": [],
   "source": [
    "altura1=1.69\n",
    "altura2=1.58\n",
    "print(\"Suma:\", altura1+altura2)\n",
    "print(\"Diferencia:\", altura1-altura2)\n",
    "print(\"Resto:\", altura1%altura2)\n",
    "print(\"Division redondeada a UN decimal:\",round((altura1/altura2),1))"
   ]
  },
  {
   "cell_type": "code",
   "execution_count": 2,
   "metadata": {},
   "outputs": [
    {
     "name": "stdout",
     "output_type": "stream",
     "text": [
      "Nombre_y_apellidos:  silvia alfayate\n",
      "Nombre mayusculas: SILVIA ALFAYATE\n",
      "Nombre minusculas silvia alfayate\n",
      "Nombre en título:  Silvia Alfayate\n",
      "Nombre con primera mayúscula:  Silvia alfayate\n"
     ]
    }
   ],
   "source": [
    "nombre_completo=input()\n",
    "print(\"Nombre_y_apellidos: \",nombre_completo)\n",
    "print(\"Nombre mayusculas:\",nombre_completo.upper())\n",
    "print(\"Nombre minusculas\",nombre_completo.lower())\n",
    "print(\"Nombre en título: \", nombre_completo.title())\n",
    "print(\"Nombre con primera mayúscula: \", nombre_completo.capitalize())"
   ]
  },
  {
   "cell_type": "code",
   "execution_count": 8,
   "metadata": {},
   "outputs": [
    {
     "name": "stdout",
     "output_type": "stream",
     "text": [
      "Dime una frase: \n",
      "Dime una vocal: \n",
      "dime unA frAse\n"
     ]
    }
   ],
   "source": [
    "frase = input(print('Dime una frase: '))\n",
    "vocal = input(print('Dime una vocal: '))\n",
    "frase_mayusculas = frase.replace(vocal, vocal.upper())\n",
    "print(frase_mayusculas)"
   ]
  },
  {
   "cell_type": "code",
   "execution_count": null,
   "metadata": {},
   "outputs": [],
   "source": []
  }
 ],
 "metadata": {
  "kernelspec": {
   "display_name": "base",
   "language": "python",
   "name": "python3"
  },
  "language_info": {
   "codemirror_mode": {
    "name": "ipython",
    "version": 3
   },
   "file_extension": ".py",
   "mimetype": "text/x-python",
   "name": "python",
   "nbconvert_exporter": "python",
   "pygments_lexer": "ipython3",
   "version": "3.9.7"
  },
  "orig_nbformat": 4,
  "vscode": {
   "interpreter": {
    "hash": "69f943ffeb1050509d23f68421eccccdbe6944938d107825421f65c9379fc2e0"
   }
  }
 },
 "nbformat": 4,
 "nbformat_minor": 2
}
